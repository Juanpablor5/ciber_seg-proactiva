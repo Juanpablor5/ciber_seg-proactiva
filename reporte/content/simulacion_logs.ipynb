{
 "cells": [
  {
   "cell_type": "markdown",
   "metadata": {},
   "source": [
    "# Procesamiento de Logs en Tiempo Real"
   ]
  },
  {
   "cell_type": "markdown",
   "metadata": {},
   "source": [
    "A continuación creearemos una simulación de cómo funcionaría esta arquitectura de priceamiento de logs en tiempo real. Para ello, utilizaremos un generador de logs que simulará los logs y cómo serán procesados bajo una lista de eventos simulados de seguridad."
   ]
  },
  {
   "cell_type": "code",
   "execution_count": 21,
   "metadata": {},
   "outputs": [],
   "source": [
    "import random\n",
    "import time\n",
    "import json"
   ]
  },
  {
   "cell_type": "markdown",
   "metadata": {},
   "source": [
    "Creamos una lista de eventos de seguridad que se simularán en el generador de logs:"
   ]
  },
  {
   "cell_type": "code",
   "execution_count": 22,
   "metadata": {},
   "outputs": [],
   "source": [
    "eventos = [\n",
    "    'Inicio de sesión exitoso',\n",
    "    'Intento de acceso no autorizado',\n",
    "    'Escaneo de puertos detectado',\n",
    "    'Malware encontrado',\n",
    "    'Conexión SSH establecida',\n",
    "    'Firewall activado',\n",
    "    'Actualización de software',\n",
    "    'Anomalía en el tráfico de red',\n",
    "    'Usuario creado',\n",
    "    'Error de autenticación'\n",
    "]"
   ]
  },
  {
   "cell_type": "markdown",
   "metadata": {},
   "source": [
    "Definimos la función `asignar_nivel` que asigna un nivel de severidad a cada evento de seguridad."
   ]
  },
  {
   "cell_type": "code",
   "execution_count": 23,
   "metadata": {},
   "outputs": [],
   "source": [
    "def asignar_nivel(evento):\n",
    "    if evento in [\n",
    "        'Intento de acceso no autorizado',\n",
    "        'Escaneo de puertos detectado',\n",
    "        'Malware encontrado',\n",
    "        'Anomalía en el tráfico de red',\n",
    "        'Error de autenticación'\n",
    "    ]:\n",
    "        return 'Alerta'\n",
    "    else:\n",
    "        return 'Información'"
   ]
  },
  {
   "cell_type": "markdown",
   "metadata": {},
   "source": [
    "Con la función `generar_log` se simularán los logs generados por el sistema de manera alearoria, agarrando un evento de la lista de eventos y creando un objeto log con la información del evento y el nivel de severidad asignado."
   ]
  },
  {
   "cell_type": "code",
   "execution_count": 24,
   "metadata": {},
   "outputs": [],
   "source": [
    "def generar_log():\n",
    "    evento = random.choice(eventos)\n",
    "    log = {\n",
    "        'timestamp': time.strftime('%Y-%m-%d %H:%M:%S'),\n",
    "        'evento': evento,\n",
    "        'nivel': asignar_nivel(evento)\n",
    "    }\n",
    "    return log"
   ]
  },
  {
   "cell_type": "markdown",
   "metadata": {},
   "source": [
    "Con un ciclo, generamos 20 logs, los cuales serán agregados a una lista. Cada log será generado con un intervalo de 1 ms."
   ]
  },
  {
   "cell_type": "code",
   "execution_count": 25,
   "metadata": {},
   "outputs": [],
   "source": [
    "logs = []\n",
    "for _ in range(20):\n",
    "    log = generar_log()\n",
    "    logs.append(log)\n",
    "    time.sleep(0.1)"
   ]
  },
  {
   "cell_type": "markdown",
   "metadata": {},
   "source": [
    "Se imprime en consola todos los logs generados."
   ]
  },
  {
   "cell_type": "code",
   "execution_count": 26,
   "metadata": {},
   "outputs": [
    {
     "name": "stdout",
     "output_type": "stream",
     "text": [
      "Logs generados:\n",
      "{\"timestamp\": \"2024-10-14 17:22:16\", \"evento\": \"Escaneo de puertos detectado\", \"nivel\": \"Alerta\"}\n",
      "{\"timestamp\": \"2024-10-14 17:22:16\", \"evento\": \"Conexión SSH establecida\", \"nivel\": \"Información\"}\n",
      "{\"timestamp\": \"2024-10-14 17:22:16\", \"evento\": \"Actualización de software\", \"nivel\": \"Información\"}\n",
      "{\"timestamp\": \"2024-10-14 17:22:16\", \"evento\": \"Firewall activado\", \"nivel\": \"Información\"}\n",
      "{\"timestamp\": \"2024-10-14 17:22:17\", \"evento\": \"Actualización de software\", \"nivel\": \"Información\"}\n",
      "{\"timestamp\": \"2024-10-14 17:22:17\", \"evento\": \"Escaneo de puertos detectado\", \"nivel\": \"Alerta\"}\n",
      "{\"timestamp\": \"2024-10-14 17:22:17\", \"evento\": \"Escaneo de puertos detectado\", \"nivel\": \"Alerta\"}\n",
      "{\"timestamp\": \"2024-10-14 17:22:17\", \"evento\": \"Error de autenticación\", \"nivel\": \"Alerta\"}\n",
      "{\"timestamp\": \"2024-10-14 17:22:17\", \"evento\": \"Conexión SSH establecida\", \"nivel\": \"Información\"}\n",
      "{\"timestamp\": \"2024-10-14 17:22:17\", \"evento\": \"Inicio de sesión exitoso\", \"nivel\": \"Información\"}\n",
      "{\"timestamp\": \"2024-10-14 17:22:17\", \"evento\": \"Malware encontrado\", \"nivel\": \"Alerta\"}\n",
      "{\"timestamp\": \"2024-10-14 17:22:17\", \"evento\": \"Anomalía en el tráfico de red\", \"nivel\": \"Alerta\"}\n",
      "{\"timestamp\": \"2024-10-14 17:22:17\", \"evento\": \"Conexión SSH establecida\", \"nivel\": \"Información\"}\n",
      "{\"timestamp\": \"2024-10-14 17:22:17\", \"evento\": \"Actualización de software\", \"nivel\": \"Información\"}\n",
      "{\"timestamp\": \"2024-10-14 17:22:18\", \"evento\": \"Conexión SSH establecida\", \"nivel\": \"Información\"}\n",
      "{\"timestamp\": \"2024-10-14 17:22:18\", \"evento\": \"Malware encontrado\", \"nivel\": \"Alerta\"}\n",
      "{\"timestamp\": \"2024-10-14 17:22:18\", \"evento\": \"Usuario creado\", \"nivel\": \"Información\"}\n",
      "{\"timestamp\": \"2024-10-14 17:22:18\", \"evento\": \"Usuario creado\", \"nivel\": \"Información\"}\n",
      "{\"timestamp\": \"2024-10-14 17:22:18\", \"evento\": \"Conexión SSH establecida\", \"nivel\": \"Información\"}\n",
      "{\"timestamp\": \"2024-10-14 17:22:18\", \"evento\": \"Conexión SSH establecida\", \"nivel\": \"Información\"}\n"
     ]
    }
   ],
   "source": [
    "print(\"Logs generados:\")\n",
    "for log in logs:\n",
    "    print(json.dumps(log, ensure_ascii=False))"
   ]
  },
  {
   "cell_type": "markdown",
   "metadata": {},
   "source": [
    "Definimos la función `procesar_logs` que simula el procesamiento de logs en tiempo real. Esta función recibe una lista de logs y los procesa. y determina si alguno de estos logs tiene un nivel de alerta, en cuyo caso se registra en una lista."
   ]
  },
  {
   "cell_type": "code",
   "execution_count": 27,
   "metadata": {},
   "outputs": [],
   "source": [
    "def procesar_logs(logs):\n",
    "    amenazas_detectadas = []\n",
    "    for log in logs:\n",
    "        if log['nivel'] == 'Alerta':\n",
    "            amenazas_detectadas.append(log)\n",
    "    return amenazas_detectadas\n",
    "\n",
    "amenazas = procesar_logs(logs)"
   ]
  },
  {
   "cell_type": "markdown",
   "metadata": {},
   "source": [
    "Imprimimos todas las amenazas detectadas."
   ]
  },
  {
   "cell_type": "code",
   "execution_count": 28,
   "metadata": {},
   "outputs": [
    {
     "name": "stdout",
     "output_type": "stream",
     "text": [
      "\n",
      "Amenazas detectadas:\n",
      "{\"timestamp\": \"2024-10-14 17:22:16\", \"evento\": \"Escaneo de puertos detectado\", \"nivel\": \"Alerta\"}\n",
      "{\"timestamp\": \"2024-10-14 17:22:17\", \"evento\": \"Escaneo de puertos detectado\", \"nivel\": \"Alerta\"}\n",
      "{\"timestamp\": \"2024-10-14 17:22:17\", \"evento\": \"Escaneo de puertos detectado\", \"nivel\": \"Alerta\"}\n",
      "{\"timestamp\": \"2024-10-14 17:22:17\", \"evento\": \"Error de autenticación\", \"nivel\": \"Alerta\"}\n",
      "{\"timestamp\": \"2024-10-14 17:22:17\", \"evento\": \"Malware encontrado\", \"nivel\": \"Alerta\"}\n",
      "{\"timestamp\": \"2024-10-14 17:22:17\", \"evento\": \"Anomalía en el tráfico de red\", \"nivel\": \"Alerta\"}\n",
      "{\"timestamp\": \"2024-10-14 17:22:18\", \"evento\": \"Malware encontrado\", \"nivel\": \"Alerta\"}\n"
     ]
    }
   ],
   "source": [
    "print(\"\\nAmenazas detectadas:\")\n",
    "for amenaza in amenazas:\n",
    "    print(json.dumps(amenaza, ensure_ascii=False))"
   ]
  },
  {
   "cell_type": "markdown",
   "metadata": {},
   "source": [
    "Simulamos el almacenamiento de los reportes en S3, creando un archivo json local con los reportes."
   ]
  },
  {
   "cell_type": "code",
   "execution_count": 29,
   "metadata": {},
   "outputs": [],
   "source": [
    "with open('logs_simulados.json', 'w', encoding='utf-8') as f:\n",
    "    json.dump(logs, f, ensure_ascii=False, indent=4)"
   ]
  },
  {
   "cell_type": "code",
   "execution_count": 30,
   "metadata": {},
   "outputs": [],
   "source": [
    "with open('amenazas_detectadas.json', 'w', encoding='utf-8') as f:\n",
    "    json.dump(amenazas, f, ensure_ascii=False, indent=4)"
   ]
  },
  {
   "cell_type": "markdown",
   "metadata": {},
   "source": [
    "Simulamos el envío de las notificaciones al encontrar una amenaza con el reporte de seguridad"
   ]
  },
  {
   "cell_type": "code",
   "execution_count": 31,
   "metadata": {},
   "outputs": [
    {
     "name": "stdout",
     "output_type": "stream",
     "text": [
      "Enviando notificación: [ALERTA] Escaneo de puertos detectado detectado en 2024-10-14 17:22:16\n",
      "Enviando notificación: [ALERTA] Escaneo de puertos detectado detectado en 2024-10-14 17:22:17\n",
      "Enviando notificación: [ALERTA] Escaneo de puertos detectado detectado en 2024-10-14 17:22:17\n",
      "Enviando notificación: [ALERTA] Error de autenticación detectado en 2024-10-14 17:22:17\n",
      "Enviando notificación: [ALERTA] Malware encontrado detectado en 2024-10-14 17:22:17\n",
      "Enviando notificación: [ALERTA] Anomalía en el tráfico de red detectado en 2024-10-14 17:22:17\n",
      "Enviando notificación: [ALERTA] Malware encontrado detectado en 2024-10-14 17:22:18\n"
     ]
    }
   ],
   "source": [
    "def enviar_notificaciones(amenazas):\n",
    "    for amenaza in amenazas:\n",
    "        mensaje = f\"[ALERTA] {amenaza['evento']} detectado en {amenaza['timestamp']}\"\n",
    "        print(f\"Enviando notificación: {mensaje}\")\n",
    "\n",
    "enviar_notificaciones(amenazas)"
   ]
  }
 ],
 "metadata": {
  "kernelspec": {
   "display_name": "cloud",
   "language": "python",
   "name": "python3"
  },
  "language_info": {
   "codemirror_mode": {
    "name": "ipython",
    "version": 3
   },
   "file_extension": ".py",
   "mimetype": "text/x-python",
   "name": "python",
   "nbconvert_exporter": "python",
   "pygments_lexer": "ipython3",
   "version": "3.12.4"
  }
 },
 "nbformat": 4,
 "nbformat_minor": 2
}
